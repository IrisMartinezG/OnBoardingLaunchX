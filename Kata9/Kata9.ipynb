{
 "cells": [
  {
   "cell_type": "code",
   "execution_count": 2,
   "metadata": {},
   "outputs": [
    {
     "name": "stdout",
     "output_type": "stream",
     "text": [
      "EL promedio es 6.333333333333333\n"
     ]
    }
   ],
   "source": [
    "# Función para leer 3 tanques de combustible y muestre el promedio\n",
    "def leertanques(tank1,tank2,tak3):\n",
    "    promedio=tank1+tank2+tak3/3\n",
    "    #print(\"El promedio es \"+promedio)\n",
    "    return str(promedio)\n",
    "\n",
    "print(\"EL promedio es \"+ leertanques(2,3,4))"
   ]
  },
  {
   "cell_type": "code",
   "execution_count": 8,
   "metadata": {},
   "outputs": [
    {
     "name": "stdout",
     "output_type": "stream",
     "text": [
      "Reporte Total:\n",
      "    Promedio de los tanques: 82.0%\n",
      "    Tanque 1: 80%\n",
      "    Tanque 2: 85%\n",
      "    Tanque 3: 81% \n",
      "    \n"
     ]
    }
   ],
   "source": [
    "#Cambiamos la funcion a funcion promedio\n",
    "# Mejora la legibilidad extrayendo el cálculo promedio de la función en una nueva función para que el promedio se pueda hacer de forma independiente:\n",
    "\n",
    "def generarReporte(tank1,tank2,tak3):\n",
    "    return f\"\"\"Reporte Total:\n",
    "    Promedio de los tanques: {promedio([tank1,tank2,tak3])}%\n",
    "    Tanque 1: {str(tank1)}%\n",
    "    Tanque 2: {str(tank2)}%\n",
    "    Tanque 3: {str(tak3)}% \n",
    "    \"\"\"\n",
    "\n",
    "def promedio(tanques):\n",
    "    suma=sum(tanques)\n",
    "    prom=suma/len(tanques)\n",
    "    return str(prom)\n",
    "\n",
    "print(generarReporte(80, 85, 81))"
   ]
  },
  {
   "cell_type": "code",
   "execution_count": 1,
   "metadata": {},
   "outputs": [
    {
     "name": "stdout",
     "output_type": "stream",
     "text": [
      "\n",
      "    Con destino a --> Sonora\n",
      "    Total de tiempo realizado en el viaje: 305 minutos\n",
      "    Total capacidad en el tanque: 17 litros\n",
      "    \n"
     ]
    }
   ],
   "source": [
    "# Función con un informe preciso de la misión. Considera hora de prelanzamiento, tiempo de vuelo, destino, tanque externo y tanque interno\n",
    "\n",
    "def ReporteMision(tiempodestino, combustible, destino,minutosext, tanlopc):\n",
    "    return f\"\"\"\n",
    "    Con destino a --> {destino}\n",
    "    Total de tiempo realizado en el viaje: {tiempodestino + minutosext} minutos\n",
    "    Total capacidad en el tanque: {combustible + tanlopc} litros\n",
    "    \"\"\"\n",
    "\n",
    "print(ReporteMision(300, 15, \"Sonora\", 5, 2))"
   ]
  },
  {
   "cell_type": "code",
   "execution_count": 2,
   "metadata": {},
   "outputs": [
    {
     "name": "stdout",
     "output_type": "stream",
     "text": [
      "\n",
      "    Con destino a --> Luna\n",
      "    Total de tiempo realizado en el viaje: 76 minutes\n",
      "    Total capacidad en el tanque: 500000\n",
      "    \n"
     ]
    }
   ],
   "source": [
    "# La función es problemática porque no se puede adaptar para minutos adicionales o tanques adicionales de combustible. Hazlo más flexible permitiendo cualquier \n",
    "# número de pasos basados en el tiempo y cualquier número de tanques. En lugar de usar *args y **kwargs, aprovecha el hecho de que puedes usar cualquier nombre \n",
    "# que desees. Asegurate que la función sea más legible mediante el uso de nombres de variables que están asociados con las entradas, como *minutes y **fuel_reservoirs:\n",
    "# Escribe tu nueva función de reporte considerando lo anterior\n",
    "\n",
    "def ReporteMision(destino, *minutes, **fuel_reservoirs):\n",
    "    return f\"\"\"\n",
    "    Con destino a --> {destino}\n",
    "    Total de tiempo realizado en el viaje: {sum(minutes)} minutes\n",
    "    Total capacidad en el tanque: {sum(fuel_reservoirs.values())}\n",
    "    \"\"\"\n",
    "\n",
    "print(ReporteMision(\"Luna\", 10, 15, 51, main=300000, external=200000)) #Probando ejemplo de solución de pracitca\n"
   ]
  },
  {
   "cell_type": "code",
   "execution_count": 3,
   "metadata": {},
   "outputs": [
    {
     "name": "stdout",
     "output_type": "stream",
     "text": [
      "\n",
      "    Con destino a --> Moon\n",
      "    Total de tiempo realizado en el viaje: 74 minutes\n",
      "    Total capacidad en el tanque: 500000\n",
      "    El tanque <<main>> le quedan <<300000>> litros\n",
      "El tanque <<external>> le quedan <<200000>> litros\n",
      "\n"
     ]
    }
   ],
   "source": [
    "#Debido a que el combustible que queda en los tanques es específico de cada tanque, actualiza la función para usar el nombre de cada tanque en el informe:\n",
    "# Escribe tu nueva función\n",
    "\n",
    "def ReporteMision(destino, *minutes, **fuel_reservoirs):\n",
    "    reporte = f\"\"\"\n",
    "    Con destino a --> {destino}\n",
    "    Total de tiempo realizado en el viaje: {sum(minutes)} minutes\n",
    "    Total capacidad en el tanque: {sum(fuel_reservoirs.values())}\n",
    "    \"\"\"\n",
    "    for tanque, litros in fuel_reservoirs.items():\n",
    "        reporte += f\"El tanque <<{tanque}>> le quedan <<{litros}>> litros\\n\"\n",
    "    return reporte\n",
    "\n",
    "print(ReporteMision(\"Moon\", 8, 11, 55, main=300000, external=200000))#Probando ejemplo de solución de pracitca"
   ]
  }
 ],
 "metadata": {
  "interpreter": {
   "hash": "97cc609b13305c559618ec78a438abc56230b9381f827f22d070313b9a1f3777"
  },
  "kernelspec": {
   "display_name": "Python 3.10.0 64-bit",
   "language": "python",
   "name": "python3"
  },
  "language_info": {
   "codemirror_mode": {
    "name": "ipython",
    "version": 3
   },
   "file_extension": ".py",
   "mimetype": "text/x-python",
   "name": "python",
   "nbconvert_exporter": "python",
   "pygments_lexer": "ipython3",
   "version": "3.10.0"
  },
  "orig_nbformat": 4
 },
 "nbformat": 4,
 "nbformat_minor": 2
}
