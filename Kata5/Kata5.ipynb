{
  "cells": [
    {
      "cell_type": "code",
      "execution_count": 1,
      "metadata": {},
      "outputs": [],
      "source": [
        "# Crear variables para almacenar las dos distancias\n",
        "# ¡Asegúrate de quitar las comas!\n",
        "first_planet=149597870\n",
        "second_planet=778547200"
      ]
    },
    {
      "cell_type": "code",
      "execution_count": 5,
      "metadata": {},
      "outputs": [
        {
          "name": "stdout",
          "output_type": "stream",
          "text": [
            "628949330\n",
            "390577534\n"
          ]
        }
      ],
      "source": [
        "# Calcular la distancia entre planetas\n",
        "first_planet=149597870\n",
        "second_planet=778547200\n",
        "\n",
        "distance_km = first_planet - second_planet\n",
        "distance_mi = distance_km * 0.621\n",
        "\n",
        "print(abs(distance_km))\n",
        "print(abs(round(distance_mi)))"
      ]
    },
    {
      "cell_type": "code",
      "execution_count": 9,
      "metadata": {},
      "outputs": [
        {
          "name": "stdout",
          "output_type": "stream",
          "text": [
            "50300000\n",
            "31236300.0\n"
          ]
        }
      ],
      "source": [
        "first_planet = int(input(\"Distancia del primer planeta: \"))\n",
        "second_planet = int(input(\"Distancia del seundo planeta: \"))\n",
        "# Realizar el cálculo y determinar el valor absoluto\n",
        "\n",
        "distance_km = abs(first_planet - second_planet)\n",
        "\n",
        "# Convertir de KM a Millas\n",
        "distance_mi = abs(distance_km * 0.621)\n",
        "\n",
        "print(distance_km)\n",
        "print(distance_mi)"
      ]
    },
    {
      "cell_type": "markdown",
      "metadata": {},
      "source": [
        "### Prueba tu aplicación\n",
        "Para probar el proyecto, ejecuta tu notebook. En la parte superior de vscode surgirá un cuadro de diálogo para que proporciones las distancias. Puede utilizar los datos de la tabla siguiente:\n",
        "\n",
        "| Planeta  | Distancia al sol |\n",
        "| ------- | ----------------- |\n",
        "| Mercurio | 57900000          |\n",
        "| Venus   | 108200000         |\n",
        "| Tierra   | 149600000         |\n",
        "| Marte    | 227900000         |\n",
        "| Júpiter | 778600000         |\n",
        "| Saturno  | 1433500000        |\n",
        "| Urano  | 2872500000        |\n",
        "| Neptuno | 4495100000        |"
      ]
    }
  ],
  "metadata": {
    "interpreter": {
      "hash": "502cd6c3b6c9e666d195e1caff9d64ea12bf644e547a4c8fae84812082c54b6f"
    },
    "kernel_info": {
      "name": "conda-env-py37_default-py"
    },
    "kernelspec": {
      "display_name": "py37_default",
      "language": "python",
      "name": "python3"
    },
    "language_info": {
      "codemirror_mode": {
        "name": "ipython",
        "version": 3
      },
      "file_extension": ".py",
      "mimetype": "text/x-python",
      "name": "python",
      "nbconvert_exporter": "python",
      "pygments_lexer": "ipython3",
      "version": "3.10.0"
    },
    "nteract": {
      "version": "nteract-front-end@1.0.0"
    },
    "orig_nbformat": 4
  },
  "nbformat": 4,
  "nbformat_minor": 2
}
