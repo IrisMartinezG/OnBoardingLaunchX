{
 "cells": [
  {
   "cell_type": "code",
   "execution_count": 11,
   "metadata": {},
   "outputs": [
    {
     "name": "stdout",
     "output_type": "stream",
     "text": [
      "El asteroide puede ser una amenaza para la Tierra D: \n"
     ]
    }
   ],
   "source": [
    "#EJERCICIO UNO\n",
    "# Añadir el código necesario para crear una variable que guarde la velocidad del asteroide.\n",
    "# Escribe una expresión de prueba para calcular si necesita una advertencia.\n",
    "# Agregue las instrucciones que se ejecutarán si la expresión de prueba es true o false.\n",
    "\n",
    "velocidad = 26 #velocidad del asteroide\n",
    "if velocidad <= 25:\n",
    "    print('EL asteroride no es peligro para la Tierra n.n')\n",
    "else:\n",
    "    print('El asteroide puede ser una amenaza para la Tierra D: moriremos todossss D: ')"
   ]
  },
  {
   "cell_type": "code",
   "execution_count": null,
   "metadata": {},
   "outputs": [],
   "source": [
    "#EJERCICIO DOS\n",
    "# Agrega el código para crear una variable para un asteroide que viaja a 19 km/s\n",
    "# Escribe varias expresiones de prueba para determinar si puedes ver el rayo de luz desde la tierra\n",
    "# Agrega las instrucciones que se ejecutarán si las expresiones de prueba son True o False\n",
    "asteroide = 36\n",
    "if asteroide > 20:\n",
    "    print('Mira¡??? Se puede ver un rayo de luz')\n",
    "elif asteroide == 20:\n",
    "    print('Mira¡??? Se puede ver un rayo de luz')\n",
    "else:\n",
    "    print('Nada de nada')"
   ]
  },
  {
   "cell_type": "code",
   "execution_count": 13,
   "metadata": {},
   "outputs": [
    {
     "name": "stdout",
     "output_type": "stream",
     "text": [
      "Nada de nada amikos\n"
     ]
    }
   ],
   "source": [
    "#EJERCICIO TRES\n",
    "# Agrega el código para crear nuevas variables para la velocidad y el tamaño del asteroide\n",
    "# Para probar el código, prueba con varias velocidades y tamaños\n",
    "# Escribe varias expresiones de prueba o combinaciones de expresiones de prueba para determinar qué mensaje se debe enviar a Tierra.\n",
    "velocidad = 2\n",
    "tamanio = 40\n",
    "if velocidad> 25 and tamanio > 25:\n",
    "    print('El asteroide es una amenaza para la Tierra D: moriremos todossss D: ')\n",
    "elif velocidad >= 20:\n",
    "    print('Mira¡??? Se puede ver un rayo de luz')\n",
    "elif tamanio< 25:\n",
    "    print('Nada de nada amikos')\n",
    "else:\n",
    "    print('Nada de nada amikos')"
   ]
  }
 ],
 "metadata": {
  "interpreter": {
   "hash": "97cc609b13305c559618ec78a438abc56230b9381f827f22d070313b9a1f3777"
  },
  "kernelspec": {
   "display_name": "Python 3.10.0 64-bit",
   "language": "python",
   "name": "python3"
  },
  "language_info": {
   "codemirror_mode": {
    "name": "ipython",
    "version": 3
   },
   "file_extension": ".py",
   "mimetype": "text/x-python",
   "name": "python",
   "nbconvert_exporter": "python",
   "pygments_lexer": "ipython3",
   "version": "3.10.0"
  },
  "orig_nbformat": 4
 },
 "nbformat": 4,
 "nbformat_minor": 2
}
